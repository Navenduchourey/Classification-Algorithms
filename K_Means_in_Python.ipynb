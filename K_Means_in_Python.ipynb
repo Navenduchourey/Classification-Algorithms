{
  "nbformat": 4,
  "nbformat_minor": 0,
  "metadata": {
    "colab": {
      "name": "K-Means in Python.ipynb",
      "provenance": [],
      "authorship_tag": "ABX9TyMZgyvkOyr0Y2j4wB246nsK",
      "include_colab_link": true
    },
    "kernelspec": {
      "name": "python3",
      "display_name": "Python 3"
    }
  },
  "cells": [
    {
      "cell_type": "markdown",
      "metadata": {
        "id": "view-in-github",
        "colab_type": "text"
      },
      "source": [
        "<a href=\"https://colab.research.google.com/github/Navenduchourey/Classification-Algorithms/blob/master/K_Means_in_Python.ipynb\" target=\"_parent\"><img src=\"https://colab.research.google.com/assets/colab-badge.svg\" alt=\"Open In Colab\"/></a>"
      ]
    },
    {
      "cell_type": "markdown",
      "metadata": {
        "id": "zBrRMiVwhJ90",
        "colab_type": "text"
      },
      "source": [
        "**K-Nearest Neighbor algorithm in Python**"
      ]
    },
    {
      "cell_type": "code",
      "metadata": {
        "id": "pF5-Ip2Aq5IM",
        "colab_type": "code",
        "colab": {}
      },
      "source": [
        "import random\n",
        "from scipy.spatial import distance\n",
        "\n",
        "def euc(a, b):\n",
        "  return distance.euclidean(a, b)\n",
        "  \n",
        "\n",
        "class my_knn():\n",
        "  def fit(self, X_train, y_train):\n",
        "    self.X_train = X_train\n",
        "    self.y_train = y_train\n",
        "    \n",
        "  def predict(self, X_test):\n",
        "    predictions = []\n",
        "    for row in X_test:\n",
        "      label = self.closest(row)\n",
        "      predictions.append(label)\n",
        "    return predictions\n",
        "  \n",
        "  def closest(self, row):\n",
        "    best_dist = euc(row, self.X_train[0])\n",
        "    best_index =  0\n",
        "    for i in range(1, len(self.X_train)):\n",
        "      dist = euc(row, self.X_train[i])\n",
        "      if dist < best_dist:\n",
        "        best_dist = dist\n",
        "        best_index = i \n",
        "    return self.y_train[best_index]\n",
        "\n"
      ],
      "execution_count": 42,
      "outputs": []
    },
    {
      "cell_type": "code",
      "metadata": {
        "id": "-SV3sClDRzyv",
        "colab_type": "code",
        "colab": {
          "base_uri": "https://localhost:8080/",
          "height": 34
        },
        "outputId": "07c1144e-11da-4dc4-a5fc-b9a7e1da3fce"
      },
      "source": [
        "from sklearn import datasets\n",
        "\n",
        "iris = datasets.load_iris()\n",
        "\n",
        "X = iris.data\n",
        "y = iris.target\n",
        "\n",
        "from sklearn.model_selection import train_test_split\n",
        "X_train, X_test, y_train, y_test = train_test_split(X, y, test_size = 0.5)\n",
        "\n",
        "from sklearn.neighbors import KNeighborsClassifier\n",
        "my_clf = KNeighborsClassifier()\n",
        "my_clf.fit(X_train, y_train)\n",
        "\n",
        "predict = my_clf.predict(X_test)\n",
        "\n",
        "from sklearn.metrics import accuracy_score\n",
        "print(accuracy_score(y_test, predict))"
      ],
      "execution_count": 44,
      "outputs": [
        {
          "output_type": "stream",
          "text": [
            "0.9733333333333334\n"
          ],
          "name": "stdout"
        }
      ]
    },
    {
      "cell_type": "code",
      "metadata": {
        "id": "btGURZCnaCK-",
        "colab_type": "code",
        "colab": {
          "base_uri": "https://localhost:8080/",
          "height": 34
        },
        "outputId": "64d86221-7a44-47a9-a442-66207611fe1a"
      },
      "source": [
        "my_clf = my_knn()\n",
        "my_clf.fit(X_train, y_train)\n",
        "\n",
        "predict = my_clf.predict(X_test)\n",
        "\n",
        "from sklearn.metrics import accuracy_score\n",
        "print(accuracy_score(y_test, predict))"
      ],
      "execution_count": 45,
      "outputs": [
        {
          "output_type": "stream",
          "text": [
            "0.9466666666666667\n"
          ],
          "name": "stdout"
        }
      ]
    }
  ]
}